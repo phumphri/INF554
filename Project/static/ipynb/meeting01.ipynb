{
 "cells": [
  {
   "cell_type": "markdown",
   "metadata": {},
   "source": [
    "<h1>Action Items</h1>\n",
    "<ul>\n",
    "    <li>PH:  Dimension analysis into Google Sheets.</li>\n",
    "    <li>PH:  Standup Github + Heroku</li>\n",
    "    <li>PH:  Download database to Goole Sheets</li>\n",
    "    <li>Audience:  MBS Management</li>\n",
    "</ul>"
   ]
  },
  {
   "cell_type": "markdown",
   "metadata": {},
   "source": [
    "<h3>Topics</h3>\n",
    "<ul>\n",
    "    <li>Trips:  PH</li>\n",
    "    <li>Riders and Bikes:  JH</li>\n",
    "    <li>Stations:  YC</li>\n",
    "    <li>Media:  PH</li>\n",
    "</ul>\n",
    "      "
   ]
  },
  {
   "cell_type": "markdown",
   "metadata": {},
   "source": []
  },
  {
   "cell_type": "markdown",
   "metadata": {},
   "source": []
  },
  {
   "cell_type": "code",
   "execution_count": null,
   "metadata": {},
   "outputs": [],
   "source": []
  }
 ],
 "metadata": {
  "kernelspec": {
   "display_name": "Python 3",
   "language": "python",
   "name": "python3"
  },
  "language_info": {
   "codemirror_mode": {
    "name": "ipython",
    "version": 3
   },
   "file_extension": ".py",
   "mimetype": "text/x-python",
   "name": "python",
   "nbconvert_exporter": "python",
   "pygments_lexer": "ipython3",
   "version": "3.7.3"
  }
 },
 "nbformat": 4,
 "nbformat_minor": 2
}
