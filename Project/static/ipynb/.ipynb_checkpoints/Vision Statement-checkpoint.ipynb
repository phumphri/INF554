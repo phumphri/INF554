{
 "cells": [
  {
   "cell_type": "markdown",
   "metadata": {},
   "source": [
    "<h1>Metro Bike Share Vision Statement</h1>"
   ]
  },
  {
   "cell_type": "markdown",
   "metadata": {},
   "source": [
    "<h3>Summary</h3>\n",
    "<p>\n",
    "    The project should tell the story of Metro Bike Share (MBS).  Here is the definition of \"tell\n",
    "    the story\".  There will be a narrative consisting of several short paragraphs.  Each paragraph\n",
    "    will communicate an aspect of MBS.  With each paragraph there will be a visualization\n",
    "    supporting the paragraph.  When we present the project, we will recite the paragraphs,\n",
    "    pointinout the supporting information in the associated visualization.  This will give the\n",
    "    audience a \"context\" that will enable them to understand what MBS is and how it became what it\n",
    "    is today.\n",
    "</p>\n",
    "    "
   ]
  },
  {
   "cell_type": "markdown",
   "metadata": {},
   "source": [
    "<h3>Paragraph 1:  Then and Now</h3>\n",
    "<p>\n",
    "    The first paragraph will be a summary of how MBS was conceived and where it is today.\n",
    "</p>\n",
    "<p>\n",
    "    The support visualization would be a timeline graph (temporal).  This timeline should events\n",
    "    from original proposal, major milestones, and finally the current achievement.\n",
    "</p>"
   ]
  },
  {
   "cell_type": "markdown",
   "metadata": {},
   "source": [
    "<h3>Paragraph 2:  Growth and Seasonal Usage</h3>\n",
    "<p>\n",
    "    The next paragraph will talk about the growth of MBS and its seasonality.  \n",
    "</p>\n",
    "<p>\n",
    "    There could be two bar graphs.  One showing growth over time.  The other showing average usage\n",
    "    by month.\n",
    "</p>"
   ]
  },
  {
   "cell_type": "markdown",
   "metadata": {},
   "source": [
    "<h3>Paragraph 3:  Rider Composistion and Habits</h3>\n",
    "<p>\n",
    "    The next paragraph will talk about the composition of MBS riders and their ridding habits.  \n",
    "</p>\n",
    "    Pie chart will do for rider composition (nominal).  A bar chart will display the average number\n",
    "    of rides during the time of day per season.\n",
    "</p>"
   ]
  },
  {
   "cell_type": "markdown",
   "metadata": {},
   "source": [
    "<h3>Paragraph 4:  Favorite Stations</h3>\n",
    "<p>\n",
    "    The next  paragraph will talk about the favorite starting stations, end stations, and routes.\n",
    "    That information will be encoded on to a map of Los Angeles.  The database has the latitudes\n",
    "    and longitudes for doing this (geospatial).\n",
    "</p>"
   ]
  },
  {
   "cell_type": "markdown",
   "metadata": {},
   "source": [
    "<h3>Paragraph 5:  Twitter</h3>\n",
    "<p>\n",
    "    Finally, if there is time, I could show a streamgraph of negative, neutral, and positive\n",
    "    twitter references to MBS.\n",
    "</p>"
   ]
  },
  {
   "cell_type": "markdown",
   "metadata": {},
   "source": [
    "<h3>Time Constraint</h3>\n",
    "<p>\n",
    "    In total, that will be about six visualizations.  According to the syllabus, there is a \n",
    "    five-minute time limit on proposals, YouTube video, and presentation.  With six visualizations,\n",
    "    we should be able to comply with the constraint.\n",
    "</p>"
   ]
  },
  {
   "cell_type": "markdown",
   "metadata": {},
   "source": []
  }
 ],
 "metadata": {
  "kernelspec": {
   "display_name": "Python 3",
   "language": "python",
   "name": "python3"
  },
  "language_info": {
   "codemirror_mode": {
    "name": "ipython",
    "version": 3
   },
   "file_extension": ".py",
   "mimetype": "text/x-python",
   "name": "python",
   "nbconvert_exporter": "python",
   "pygments_lexer": "ipython3",
   "version": "3.7.3"
  }
 },
 "nbformat": 4,
 "nbformat_minor": 2
}
