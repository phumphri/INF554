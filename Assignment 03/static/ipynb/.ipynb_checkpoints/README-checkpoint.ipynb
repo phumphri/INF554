{
 "cells": [
  {
   "cell_type": "markdown",
   "metadata": {},
   "source": [
    "<h1>Assignment 3:  Visualization Wheel</h1>\n",
    "<ul>\n",
    "    <li>Semester:  Fall 2019</li>\n",
    "    <li>Class:  INF 554 Information Visualization\n",
    "    <li>Student:  Patrick Humphries</li>\n",
    "    <li>Student ID:  (7097-1087-72)</li>\n",
    "    <li>Student email:  pvhumhr@uscedu</li>\n",
    "</ul>\n",
    "    "
   ]
  },
  {
   "cell_type": "markdown",
   "metadata": {},
   "source": [
    "<h3>Assignment</h3>\n",
    "<ul>\n",
    "    <li>Find 2 different infographics on the same subject and compare them using the visualization wheel.</li>\n",
    "    <li>What do they do well, what do they do poorly?</li>\n",
    "    <li>Suggest improvements for things they do poorly</li>\n",
    "    <li>Document in HTML</li>\n",
    "</ul>"
   ]
  },
  {
   "cell_type": "markdown",
   "metadata": {},
   "source": [
    "<h3>Approach</h3>\n",
    "<p>A Visualization Wheel was created as a SVG+XML file with Inkscape.</p>\n",
    "<p>This file was copied and then modified for each infographic.</p>"
   ]
  },
  {
   "cell_type": "markdown",
   "metadata": {},
   "source": [
    "<h3>Provenance</h3>\n",
    "<p>\n",
    "<a \n",
    " href=\"https://www.nytimes.com/interactive/2019/08/02/us/politics/2020-democratic-fundraising.html\" \n",
    "target=\"_blank\">Detailed Maps of the Donors Powering the 2020 Democratic Campaigns</a></p>\n",
    "<p>\n",
    "<a href=\"https://www.forbes.com/sites/giacomotognini/2019/08/05/here-are-the-democratic-presidential-candidates-with-the-most-donations-from-billionaires/#2ba672c04c15\" target=\"_blank\">Here Are The Democratic Presidential Candidates With The Most Donations From Billionaires</a></p>\n"
   ]
  },
  {
   "cell_type": "markdown",
   "metadata": {},
   "source": [
    "<h3>The New York Times</h3>\n",
    "\n",
    "<h5>Abstraction-Figuration</h5>\n",
    "    <p>\n",
    "        Using a chorograph makes this visualization figurative. Also, drilling down on the \n",
    "        chorogaph to counties makes this even more figurative.  The goal of the visualization is to\n",
    "        show for each candidate where the individual donors are located, so figuration is\n",
    "        important.\n",
    "    </p>\n",
    "    <p>Score 2-4</p>\n",
    "    \n",
    "<h5>Functionality-Decoration</h5>\n",
    "    <p>\n",
    "        The use of head-shots of the candidates is decorative. They do not interfere with the\n",
    "        comprehension.  This visualization is highly functional. Visually show the distribution of\n",
    "        data as well as allowing for drilling contributes to its functionality. \n",
    "    </p>\n",
    "    <p>Score 6-1</p>\n",
    "\n",
    "<h5>Density-Lightness</h5>\n",
    "    <p>This is a relative dense graph. Finding the number of donors per candidate results in a\n",
    "        tremendous amount of information.\n",
    "    </p>\n",
    "    <p>Score 6-1</p>\n",
    "\n",
    "<h5>Multidimensionality-Unidimentionality</h5>\n",
    "    <p>\n",
    "        This visualization is as multidimensional as unidimentional.  Being able to drill down to\n",
    "        the county level allows the user to explore the data.  However, the data is only the number\n",
    "        of donors per candidate. It does not reveal other dimensions such as the biggest donor,\n",
    "        finantial status, or social association.\n",
    "    </p>\n",
    "    <p>Score 2-2</p>\n",
    "\n",
    "<h5>Originality-Familiarity</h5>\n",
    "    <p>\n",
    "        This is a choropleth drilling down to a geospatial representation of counties.  These are\n",
    "        maps that are familiar to anyone who is familiar with the geography of the United States\n",
    "    </p>\n",
    "    <p>Score 1-6</p>\n",
    "\n",
    "<h5>Novelty-Redundancy</h5>\n",
    "    <p>\n",
    "        This visualization is neither novel nor redundant.  It is not redundant, because at the\n",
    "        most granular level it only shows the data for a single county.  It is not novel, because\n",
    "        it only shows donors per county per candidate.\n",
    "    </p>\n",
    "    <p>Score 2-2</p>\n"
   ]
  },
  {
   "cell_type": "markdown",
   "metadata": {},
   "source": [
    "<h3>Forbes</h3>\n",
    "\n",
    "<h5>Abstraction-Figuration</h5>\n",
    "    <p>\n",
    "        This visualation is highly abstract. There is no mimicry.\n",
    "        It is just simple horizontal bar chart. \n",
    "    </p>\n",
    "    <p>Score 6-1</p>\n",
    "    \n",
    "<h5>Functionality-Decoration</h5>\n",
    "    <p>\n",
    "        Again, head-shots of the candidates are decorations that do not interfere with the\n",
    "        comprehension.  This strictly a functional visualization with bars and tooltips.\n",
    "    </p>\n",
    "    <p>Score 6-1</p>\n",
    "\n",
    "<h5>Density-Lightness</h5>\n",
    "    <p>\n",
    "        It cannot be any lighter than this. A bar chart with aggregated number billionaire donors.\n",
    "        This a dearth of information. No drill down to the actual donors and amounts.\n",
    "    </p>\n",
    "    <p>Score 1-6</p>\n",
    "\n",
    "<h5>Multidimensionality-Unidimentionality</h5>\n",
    "    <p>\n",
    "        This is strictly a unidimential visualization.  Other than tooltips on the bars, there is\n",
    "        no other affordances to the user.\n",
    "    </p>\n",
    "    <p>Score 1-6</p>\n",
    "    \n",
    "<h5>Originality-Familiarity</h5>\n",
    "    <p>A bar chart is highly familiar.</p>\n",
    "    <p>Score 1-6</p>\n",
    "\n",
    "<h5>Novelty-Redundancy</h5>\n",
    "    <p>\n",
    "        Because this visualization is unidimentional, there is no room for novelty or redundancy.\n",
    "        Novelty is missing becuase it only shows the number of donors per candidate.  It might be\n",
    "        helpful to show the amounts of donationations, the biggest donors, and maybe the industry\n",
    "        which is attempting to buy influence.\n",
    "    </p>\n",
    "    <p>Redundancy is missing because there is only a bar chart.</p>\n",
    "    <p>Score 1-1</p>\n"
   ]
  }
 ],
 "metadata": {
  "kernelspec": {
   "display_name": "Python 3",
   "language": "python",
   "name": "python3"
  },
  "language_info": {
   "codemirror_mode": {
    "name": "ipython",
    "version": 3
   },
   "file_extension": ".py",
   "mimetype": "text/x-python",
   "name": "python",
   "nbconvert_exporter": "python",
   "pygments_lexer": "ipython3",
   "version": "3.7.3"
  }
 },
 "nbformat": 4,
 "nbformat_minor": 2
}
