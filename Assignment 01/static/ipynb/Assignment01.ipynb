{
 "cells": [
  {
   "cell_type": "markdown",
   "metadata": {},
   "source": [
    "# INF 554 Assignment 1\n",
    "\n",
    "## Description\n",
    "\n",
    "- For 10 countries select [UN data of your choice containing data over time](http://data.un.org).\n",
    "- Import the data in Google Sheets and format the data to create a [line chart](https://support.google.com/docs/answer/63728).\n",
    "- Create a web page named `index.html`\n",
    "- Add explanations on the dataset and provenance\n",
    "- Add a link to the Google Sheet file (__create the Google Sheet with your USC account__ then share it so that _Anyone at University of Southern California_ can access it)\n",
    "- Add two charts to the page:\n",
    " 1. The picture of the chart you created in Google Sheet\n",
    " 2. The Google Sheets chart you created embedded using `<iframe>`\n",
    "- Open `index.html` in the browser and make sure it works as expected\n",
    "- Commit your changes after you implement a complete step and you test\n",
    "\n",
    "## Rubric\n",
    "\n",
    "__15% of the grade is for artifacts generated and commited in class as requested by the instructor.__\n",
    "\n",
    "|               | Google Sheet | index.html |\n",
    "| ------------- | ------------ | ---------- |\n",
    "| Sophisticated | 10 countries, at least 50 datapoints, chart is well formatted (4-5 pts) | Has dataset provenance information, 2 charts (as picture and iframe), includes accessible link to Google Sheet, is well presented and has no errors (4-5 pts) |\n",
    "| Competent     | Less than 10 countries or 50 datapoints, chart is not well formatted (2-3 pts) | Does not provide clear  dataset provenance information, not all charts are presented, does not include accessible link to Google Sheet and/or details, is not well presented and or has errors (2-3 pts) |\n",
    "| Needs work    | Too few countries or datapoints, chart is poorly or not formatted (0-1 pts) | Dataset provenance information missing, not showing all charts, does not include accessible link to Google Sheet and details, is poorly presented and has errors (0-1 pts) |\n",
    "\n",
    "## Homework Guidelines\n",
    "\n",
    "- Homework repository must be updated before the deadline\n",
    "- Commits after the deadline will not be considered unless requested\n",
    "- Late policy: 10% of total available points per each late day; duration less than 24 hours counts as one whole day\n",
    "- Homework is expected to work in CHROME\n"
   ]
  }
 ],
 "metadata": {
  "kernelspec": {
   "display_name": "Python 3",
   "language": "python",
   "name": "python3"
  },
  "language_info": {
   "codemirror_mode": {
    "name": "ipython",
    "version": 3
   },
   "file_extension": ".py",
   "mimetype": "text/x-python",
   "name": "python",
   "nbconvert_exporter": "python",
   "pygments_lexer": "ipython3",
   "version": "3.7.3"
  }
 },
 "nbformat": 4,
 "nbformat_minor": 2
}
