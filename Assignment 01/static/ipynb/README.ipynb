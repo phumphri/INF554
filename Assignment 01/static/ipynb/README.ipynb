{
 "cells": [
  {
   "cell_type": "markdown",
   "metadata": {},
   "source": [
    "# INF 554 Assignment 1\n",
    "Patrick Humphries (7097-1087-72) pvhumphr@usc.edu <br />\n",
    "INF 554 Data Visualization <br />\n",
    "Fall 2019"
   ]
  },
  {
   "cell_type": "markdown",
   "metadata": {},
   "source": [
    "## Assignment\n",
    "<ul>\n",
    "    <li>For 10 countries select UN data of your choice containing data over time.</li>\n",
    "    <li>Import the data in Google Sheets and format the data to create a line chart.</li>\n",
    "    <li>Create a web page named <code>index.html</code>.</li>\n",
    "    <li>Add explanations on the dataset and provenance.</li>\n",
    "    <li>Add link to the Google Sheet file and share it so that <i>anyone</i> at University of Southern California can access it.</li>\n",
    "    <li>Add two charts to the page:</li>\n",
    "    <ol>\n",
    "        <li>The picture of the chart you created in Google Sheets.</li>\n",
    "        <li>The Google Sheets chart you created embedded using <code>iframe</code>.\n",
    "    </ol>\n",
    "    <li>Open <code>index.html</code> in the browser and make sure it works as expected.</li>\n",
    "    <li>Commit your changes after you implemented a complete step and you test.</li>\n",
    "</ul>"
   ]
  },
  {
   "cell_type": "markdown",
   "metadata": {},
   "source": [
    "## Internet\n",
    "<p>\n",
    "    Assignment 1 has been published to the Internet hosted by Heroku.\n",
    "</p>\n",
    "<p>\n",
    "    <a href=\"https://humphries-inf554.herokuapp.com/Assignment%2001/index.html\" target=\"_blank\">\n",
    "        Assignment 1\n",
    "    </a>\n",
    "</p>"
   ]
  },
  {
   "cell_type": "markdown",
   "metadata": {},
   "source": [
    "## Approach\n",
    "<p>\n",
    "    Since the author used armed forces of South America to critique a newpaper infographic, \n",
    "    the approach taken was do something similar for energy.\n",
    "    The energy production, consumption, and net exports were compared for South America.\n",
    "</p>\n",
    "<p>\n",
    "    Instead of creating a \"static\" chart as required by the assignment, \n",
    "    a dynamic chart was created instead.\n",
    "    This variation was done to add an exploration feature.\n",
    "    The chart will display a different plot based on a Series that the user selects.\n",
    "    When opening the Google Sheet, wait for a few seconds until all components are populated.\n",
    "</p>\n",
    "<p>\n",
    "    A Google Sheet was populated with energy data for ten of the twelve sovereign nations \n",
    "    of South America.\n",
    "    The data was projected and selected with the following query:\n",
    "</p>\n",
    "<p>\n",
    "    <code>\n",
    "        =QUERY('SYB62_T23_201904_Production, Trade and Supply of Energy'!A2:E8295, \n",
    "        \"select A, C, B, D, E \n",
    "        where (A=5)or(A=32)or(A=68)or(A=76)or(A=170)or(A=152)or(A=218)or(A=328)or(A=600)\n",
    "               or(A=604)or(A=740)or(A=858)or(A=862)\")\n",
    "    </code>\n",
    "</p>\n",
    "<p>\n",
    "    The product of Series (5), Year (8), and Country (10) yields 400 data points\n",
    "</p>\n",
    "<p>\n",
    "    The characters represent columns and the numbers are country codes.\n",
    "    <ul>\n",
    "        <li>A: Region/Country/Area</li>\n",
    "        <li>B: Name</li>\n",
    "        <li>C: Year</li>\n",
    "        <li>D: Series</li>\n",
    "        <li>E: Value</li>\n",
    "    </ul>\n",
    "</p>\n",
    "<p>\n",
    "    The input for the line chart was from a pivot table generated with the following query:\n",
    "</p>\n",
    "<p>\n",
    "    <code>\n",
    "        =query('South America'!B2:E517,\"select C, sum(E) where (C != 'South America') \n",
    "        and (D = '\"&B2&\"') group by C pivot B\")\n",
    "    </code>\n",
    "</p>\n",
    "<p>\n",
    "    The \"Lab 1\" specifies that a pivot table be used.\n",
    "    A pivot table was created with the following code:\n",
    "</p>\n",
    "<p>\n",
    "    <code>\n",
    "        =query('South America'!B2:E517,\"\n",
    "        select C, sum(E) \n",
    "        where (C != 'South America') and (D = '\"&B2&\"') \n",
    "        group by C pivot B\")\n",
    "    </code>\n",
    "</p>\n",
    "<p>\n",
    "    The cell B2 is a validator where the vlookup is populated with unique Series values from \n",
    "    the following query:\n",
    "</p>\n",
    "<p>\n",
    "    <code>\n",
    "        =unique(D2:D517)\n",
    "    </code>\n",
    "</p>"
   ]
  },
  {
   "cell_type": "markdown",
   "metadata": {},
   "source": [
    "## Provenance\n",
    "<p>\n",
    "    File \"SYB62_T23_201904_Production, Trade and Supply of Energy\" was downloaded from\n",
    "    http://data.un.org.\n",
    "</p>\n",
    "<p>\n",
    "    Using the QUERY function of Google Sheets, data was selected and organized into tables.\n",
    "</p>\n",
    "<p>\n",
    "    The <i>values</i> of these tables were copied to a new Google Sheet.\n",
    "    This Google sheet was used as the source for the following charts.\n",
    "    Having this additional sheet with static data improves performance.\n",
    "</p>\n",
    "<p>\n",
    "    This Google Sheet was published to the web with View authority granted to Public.\n",
    "</p>"
   ]
  },
  {
   "cell_type": "markdown",
   "metadata": {},
   "source": [
    "## Code\n",
    "<p>\n",
    "    <a target=\"_blank\" href=\"https://github.com/INF554/a1-phumphri/blob/master/index.html\">\n",
    "        index.html\n",
    "    </a>\n",
    "</p>"
   ]
  },
  {
   "cell_type": "markdown",
   "metadata": {},
   "source": [
    "## Data\n",
    "<p>\n",
    "    <a target=\"_blank\" \n",
    "        href=\"https://docs.google.com/spreadsheets/d/1CeiVB_u3H8lGjD9KlxkKzsdhivRMPKF0D8XT2qAzt0Y/edit#gid=703773082\">\n",
    "        SA_Energy_Data\n",
    "    </a>\n",
    "</p>                     "
   ]
  },
  {
   "cell_type": "code",
   "execution_count": null,
   "metadata": {},
   "outputs": [],
   "source": []
  }
 ],
 "metadata": {
  "kernelspec": {
   "display_name": "Python 3",
   "language": "python",
   "name": "python3"
  },
  "language_info": {
   "codemirror_mode": {
    "name": "ipython",
    "version": 3
   },
   "file_extension": ".py",
   "mimetype": "text/x-python",
   "name": "python",
   "nbconvert_exporter": "python",
   "pygments_lexer": "ipython3",
   "version": "3.7.3"
  }
 },
 "nbformat": 4,
 "nbformat_minor": 2
}
